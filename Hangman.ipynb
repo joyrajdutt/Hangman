{
 "cells": [
  {
   "cell_type": "code",
   "execution_count": null,
   "metadata": {},
   "outputs": [],
   "source": [
    "def ask_letter(self):        \n",
    "        while type(letter) == str:\n",
    "            letter = input(\"Enter a letter: \")\n",
    "            if len(letter) == 1:\n",
    "                pass\n",
    "            print(\"Invalid age entered\")"
   ]
  }
 ],
 "metadata": {
  "language_info": {
   "name": "python"
  },
  "orig_nbformat": 4
 },
 "nbformat": 4,
 "nbformat_minor": 2
}
